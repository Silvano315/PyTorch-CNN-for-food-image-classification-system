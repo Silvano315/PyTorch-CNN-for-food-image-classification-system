{
 "cells": [
  {
   "cell_type": "markdown",
   "metadata": {},
   "source": [
    "# FOOD CLASSIFICATION PROJECT\n",
    "\n",
    "*Pytorch project for AI Engineering Master with ProfessionAI*"
   ]
  },
  {
   "cell_type": "markdown",
   "metadata": {},
   "source": [
    "## Colab Configuration\n",
    "\n",
    "If you're testing this project on Google Colab, it could be useful for you to run the following cells"
   ]
  },
  {
   "cell_type": "code",
   "execution_count": null,
   "metadata": {},
   "outputs": [],
   "source": [
    "# If you are running this code on Google Colab, run this:\n",
    "\n",
    "!git clone https://github.com/Silvano315/PyTorch-CNN-for-food-image-classification-system.git\n",
    "\n",
    "%cd PyTorch-CNN-for-food-image-classification-system\n",
    "%pwd"
   ]
  },
  {
   "cell_type": "code",
   "execution_count": null,
   "metadata": {},
   "outputs": [],
   "source": [
    "from google.colab import drive\n",
    "drive.mount('/gdrive')"
   ]
  },
  {
   "cell_type": "markdown",
   "metadata": {},
   "source": [
    "## Import Libraries and initial Set-Up"
   ]
  },
  {
   "cell_type": "code",
   "execution_count": 1,
   "metadata": {},
   "outputs": [],
   "source": [
    "# Import libraries\n",
    "\n",
    "import os\n",
    "import sys\n",
    "import json\n",
    "import random\n",
    "\n",
    "import numpy as np\n",
    "import pandas as pd\n",
    "import seaborn as sns\n",
    "from matplotlib import pyplot as plt\n",
    "\n",
    "import torch\n",
    "import torch.nn as nn\n",
    "import torch.nn.functional as F\n",
    "import torchvision\n",
    "import torchvision.transforms as transforms\n",
    "from torchsummary import summary\n",
    "import albumentations as A\n",
    "from albumentations.pytorch import ToTensorV2\n",
    "\n",
    "from src.constants import RANDOM_SEED, DATA_PATH\n",
    "from src.utils import get_paths_to_files, get_dataset_paths\n",
    "from src.viz_fx import display_random_images"
   ]
  },
  {
   "cell_type": "code",
   "execution_count": 2,
   "metadata": {},
   "outputs": [
    {
     "data": {
      "text/plain": [
       "<torch._C.Generator at 0x17719dab0>"
      ]
     },
     "execution_count": 2,
     "metadata": {},
     "output_type": "execute_result"
    }
   ],
   "source": [
    "# Set Random Seed for reproducibility\n",
    "\n",
    "os.environ['PYTHONHASHSEED'] = str(RANDOM_SEED)\n",
    "random.seed(RANDOM_SEED)\n",
    "np.random.seed(RANDOM_SEED)\n",
    "torch.manual_seed(RANDOM_SEED)"
   ]
  },
  {
   "cell_type": "code",
   "execution_count": 3,
   "metadata": {},
   "outputs": [
    {
     "name": "stdout",
     "output_type": "stream",
     "text": [
      "This repository is connected to CPU\n"
     ]
    }
   ],
   "source": [
    "# Check if GPU is available and set it as device \n",
    "\n",
    "device = torch.device(\"cuda\" if torch.cuda.is_available() else \"cpu\")\n",
    "print(f\"This repository is connected to {str(device).upper()}\")"
   ]
  },
  {
   "cell_type": "markdown",
   "metadata": {},
   "source": [
    "## Exploratory Data Analysis"
   ]
  },
  {
   "cell_type": "code",
   "execution_count": 4,
   "metadata": {},
   "outputs": [
    {
     "name": "stdout",
     "output_type": "stream",
     "text": [
      "================================================================================\n",
      "File paths:\n",
      "dataset/test/Sandwich/Sandwich-Train (36)_e50a3a403c2741408f47d8bda7e28d1f.jpeg\n",
      "dataset/test/Sandwich/Sandwich-Train (465)_f1e4e45cc2c846f19b6e2faefe8f4600.jpeg\n",
      "dataset/test/Sandwich/Sandwich-Train (1162)_8f665882c03c496eba53724221b04846.jpeg\n",
      "dataset/test/Sandwich/Sandwich-Train (578)_3b7f8599e1b4472f9db6fa7666eae82c.jpeg\n",
      "dataset/test/Sandwich/Sandwich-Train (717)_4603bb6b236e48e9974d6b07dce7157c.jpeg\n",
      "================================================================================\n",
      "File names:\n",
      "Sandwich-Train (36)_e50a3a403c2741408f47d8bda7e28d1f.jpeg\n",
      "Sandwich-Train (465)_f1e4e45cc2c846f19b6e2faefe8f4600.jpeg\n",
      "Sandwich-Train (1162)_8f665882c03c496eba53724221b04846.jpeg\n",
      "Sandwich-Train (578)_3b7f8599e1b4472f9db6fa7666eae82c.jpeg\n",
      "Sandwich-Train (717)_4603bb6b236e48e9974d6b07dce7157c.jpeg\n",
      "================================================================================\n"
     ]
    }
   ],
   "source": [
    "# Get paths and filenames form directory dataset \n",
    "\n",
    "filepaths, filenames = get_paths_to_files(DATA_PATH)\n",
    "\n",
    "print(\"=\"*80)\n",
    "print(\"File paths:\")\n",
    "for i in range(0,5):\n",
    "    print(filepaths[i])\n",
    "print(\"=\"*80)\n",
    "print(\"File names:\")\n",
    "for i in range(0,5):\n",
    "    print(filenames[i])\n",
    "print(\"=\"*80)"
   ]
  },
  {
   "cell_type": "code",
   "execution_count": 5,
   "metadata": {},
   "outputs": [
    {
     "name": "stdout",
     "output_type": "stream",
     "text": [
      "================================================================================\n",
      "File paths:\n",
      "dataset/train/Sandwich/Sandwich-Train (277)_436fb6c2c1fc4e91a9be68c03e8e45a4.jpeg\n",
      "dataset/train/Sandwich/Sandwich-Train (161)_02ffbe626d9c4d969a256034e0617fdc.jpeg\n",
      "dataset/train/Sandwich/Sandwich-Train (1368)_627dc1a3443d4750bafe0ca7d446ed0b.jpeg\n",
      "dataset/train/Sandwich/Sandwich-Train (1016)_b9a1f780c2b54c4a8af769240dfbddb9.jpeg\n",
      "dataset/train/Sandwich/Sandwich-Train (318)_778f0227997d4e50b16153d8516e5088.jpeg\n",
      "================================================================================\n",
      "File names:\n",
      "Sandwich-Train (277)_436fb6c2c1fc4e91a9be68c03e8e45a4.jpeg\n",
      "Sandwich-Train (161)_02ffbe626d9c4d969a256034e0617fdc.jpeg\n",
      "Sandwich-Train (1368)_627dc1a3443d4750bafe0ca7d446ed0b.jpeg\n",
      "Sandwich-Train (1016)_b9a1f780c2b54c4a8af769240dfbddb9.jpeg\n",
      "Sandwich-Train (318)_778f0227997d4e50b16153d8516e5088.jpeg\n",
      "================================================================================\n"
     ]
    }
   ],
   "source": [
    "# Access to path dirs and file names for each split (test, train, val)\n",
    "\n",
    "dataset_paths = get_dataset_paths(DATA_PATH)\n",
    "\n",
    "train_paths, train_names = dataset_paths['train']\n",
    "test_paths, test_names = dataset_paths['test']\n",
    "val_paths, val_names = dataset_paths['val']\n",
    "\n",
    "print(\"=\"*80)\n",
    "print(\"File paths:\")\n",
    "for i in range(0,5):\n",
    "    print(train_paths[i])\n",
    "print(\"=\"*80)\n",
    "print(\"File names:\")\n",
    "for i in range(0,5):\n",
    "    print(train_names[i])\n",
    "print(\"=\"*80)"
   ]
  },
  {
   "cell_type": "code",
   "execution_count": null,
   "metadata": {},
   "outputs": [],
   "source": [
    "# Visualize n random images \n",
    "\n",
    "fig, axes = display_random_images(filepaths, n=25)\n",
    "plt.show() "
   ]
  },
  {
   "cell_type": "code",
   "execution_count": null,
   "metadata": {},
   "outputs": [],
   "source": [
    "# Visualize n random images from a chosen split dataset (train_paths, test_paths, val_paths)\n",
    "\n",
    "chosen_split = train_paths\n",
    "\n",
    "fig, axes = display_random_images(chosen_split, n=25)\n",
    "plt.show() "
   ]
  },
  {
   "cell_type": "code",
   "execution_count": null,
   "metadata": {},
   "outputs": [],
   "source": []
  }
 ],
 "metadata": {
  "kernelspec": {
   "display_name": ".venv",
   "language": "python",
   "name": "python3"
  },
  "language_info": {
   "codemirror_mode": {
    "name": "ipython",
    "version": 3
   },
   "file_extension": ".py",
   "mimetype": "text/x-python",
   "name": "python",
   "nbconvert_exporter": "python",
   "pygments_lexer": "ipython3",
   "version": "3.11.9"
  }
 },
 "nbformat": 4,
 "nbformat_minor": 2
}
